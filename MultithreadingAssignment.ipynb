{
 "cells": [
  {
   "cell_type": "code",
   "execution_count": 1,
   "id": "b18a69b6-29ab-4815-9fb5-d2d1462e22a0",
   "metadata": {},
   "outputs": [
    {
     "data": {
      "text/plain": [
       "'\\nMultithreading : Multithreading is defined as the ability of a processor to execute multiple threads concurrently.\\n'"
      ]
     },
     "execution_count": 1,
     "metadata": {},
     "output_type": "execute_result"
    }
   ],
   "source": [
    "# Ans : 1\n",
    "'''\n",
    "Multithreading : Multithreading is defined as the ability of a processor to execute multiple threads concurrently.\n",
    "'''\n",
    "# Python threading is used for improving the application performance.\n",
    "# Python threading allows different parts of program run concurrently and can simplify design. \n",
    "\n",
    "# Threading module is used to handle thread in python. "
   ]
  },
  {
   "cell_type": "code",
   "execution_count": 2,
   "id": "050e1092-46c5-48b8-9805-77d9e9c429b3",
   "metadata": {},
   "outputs": [
    {
     "data": {
      "text/plain": [
       "'\\nThreading module is used for creating, controlling and managing threads in python.\\n'"
      ]
     },
     "execution_count": 2,
     "metadata": {},
     "output_type": "execute_result"
    }
   ],
   "source": [
    "# Ans : 2\n",
    "'''\n",
    "Threading module is used for creating, controlling and managing threads in python.\n",
    "'''\n",
    "# activeCount() : Returns the number of thread objects that are active.\n",
    "# currentThread() : Return the number of thread objects in the caller's thread control.\n",
    "# enumerate() : Returns a list of all thread objects that are currently active."
   ]
  },
  {
   "cell_type": "code",
   "execution_count": 5,
   "id": "5b64934d-8ef6-4fe4-8ce7-d5f9e2a5a44f",
   "metadata": {},
   "outputs": [],
   "source": [
    "# Ans : 3\n",
    "\n",
    "# run() : The run() method is the entry point for a thread.\n",
    "# start() : The start() method starts a thread by calling the run() method.\n",
    "# join() : The join() waits for threads to terminate.\n",
    "# isAlive() : The isAlive() method checks whether a thread is still executing."
   ]
  },
  {
   "cell_type": "code",
   "execution_count": 18,
   "id": "c206ea0b-1026-4568-b664-76e9cd3792d3",
   "metadata": {},
   "outputs": [
    {
     "name": "stdin",
     "output_type": "stream",
     "text": [
      " 5\n"
     ]
    },
    {
     "name": "stdout",
     "output_type": "stream",
     "text": [
      "squre ofsqure of 1 is 1\n",
      " 0 is 0\n",
      "squre of 2 is 4\n",
      "squre of 3 is 9\n",
      "squre of 4 is 16\n",
      "Cube of 0 is 0\n",
      "Cube of 1 is 1\n",
      "Cube of 2 is 8\n",
      "Cube of 3 is 27\n",
      "Cube of 4 is 64\n"
     ]
    }
   ],
   "source": [
    "# Ans : 4\n",
    "import threading\n",
    "n=int(input())\n",
    "def calculateSqure(num):\n",
    "    print(\"squre of\", num,\"is\", num**2)\n",
    "def calculateCube(num):\n",
    "    print(\"Cube of\",num,\"is\", num**3)\n",
    "thread1=[threading.Thread(target=calculateSqure , args=(i,)) for i in range(n)]\n",
    "thread2=[threading.Thread(target=calculateCube , args=(i,)) for i in range(n)]\n",
    "for t in thread1:\n",
    "    t.start()\n",
    "for t in thread2:\n",
    "    t.start()"
   ]
  },
  {
   "cell_type": "code",
   "execution_count": 7,
   "id": "7dfbf652-6cb4-4154-9f24-6b515441a4b4",
   "metadata": {},
   "outputs": [
    {
     "data": {
      "text/plain": [
       "'\\nDisadvatages of multithreading :\\n    > Complex debugging and testing processes.\\n    > Overhead switching of context.\\n    > Increased potential for deadlock occurrence.\\n    > Increased difficulty level in writing a program.\\n    > Unpredictable results.\\n'"
      ]
     },
     "execution_count": 7,
     "metadata": {},
     "output_type": "execute_result"
    }
   ],
   "source": [
    "# Ans : 5\n",
    "\n",
    "'''\n",
    "Advantages of multithreading :\n",
    "    > Enhanced performance by decreased development time.\n",
    "    > Simplified and streamlined program coding.\n",
    "    > Improvised GUI responsiveness.\n",
    "    > Simultaneous and parallelized occurrence of tasks.\n",
    "    > Better use of cache storage by utilization of resources.\n",
    "    > Decreased cost of maintenance.\n",
    "    > Better use of CPU resource.\n",
    "'''\n",
    "'''\n",
    "Disadvatages of multithreading :\n",
    "    > Complex debugging and testing processes.\n",
    "    > Overhead switching of context.\n",
    "    > Increased potential for deadlock occurrence.\n",
    "    > Increased difficulty level in writing a program.\n",
    "    > Unpredictable results.\n",
    "'''\n",
    "\n"
   ]
  },
  {
   "cell_type": "code",
   "execution_count": null,
   "id": "5be7484d-ed0b-4f22-b02c-5fc510b65341",
   "metadata": {},
   "outputs": [],
   "source": [
    "# Ans : 6\n",
    "# A race condition occurs when two threads use the same variable at a given time.\n",
    "#  Deadlock exists when two threads seek one lock simultaneously."
   ]
  }
 ],
 "metadata": {
  "kernelspec": {
   "display_name": "Python 3 (ipykernel)",
   "language": "python",
   "name": "python3"
  },
  "language_info": {
   "codemirror_mode": {
    "name": "ipython",
    "version": 3
   },
   "file_extension": ".py",
   "mimetype": "text/x-python",
   "name": "python",
   "nbconvert_exporter": "python",
   "pygments_lexer": "ipython3",
   "version": "3.10.8"
  }
 },
 "nbformat": 4,
 "nbformat_minor": 5
}
